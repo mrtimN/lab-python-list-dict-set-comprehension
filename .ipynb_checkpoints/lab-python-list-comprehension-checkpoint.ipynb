{
 "cells": [
  {
   "cell_type": "markdown",
   "id": "25d7736c-ba17-4aff-b6bb-66eba20fbf4e",
   "metadata": {},
   "source": [
    "# Lab | List, Dict and Set Comprehension"
   ]
  },
  {
   "cell_type": "markdown",
   "id": "7dd3cbde-675a-4b81-92c3-f728846dbe06",
   "metadata": {},
   "source": [
    "## Exercise: Managing Customer Orders Optimized with Comprehension"
   ]
  },
  {
   "cell_type": "markdown",
   "id": "5d500160-2fb7-4777-b5e4-09d45ebaf328",
   "metadata": {},
   "source": [
    "In the previous exercise, you developed a program to manage customer orders and inventory. Now, let's take it a step further and incorporate comprehension into your code.\n",
    "\n",
    "Follow the steps below to complete the exercise:\n",
    "\n",
    "1. Review your code from the previous exercise and identify areas where you can apply comprehension to simplify and streamline your code. \n",
    "\n",
    "    - *Hint: Apply it to initialize inventory, updating the inventory and printing the updated inventory.*\n",
    "    \n",
    "    - For example, in initializing the inventory, we could have:\n",
    "    \n",
    "        ```python\n",
    "        def initialize_inventory(products):\n",
    "            inventory = {product: int(input(f\"Enter the quantity of {product}s available: \")) for product in products}\n",
    "            return inventory\n",
    "\n",
    "        ```\n",
    "<br>\n",
    "    \n",
    "    \n",
    "2. Modify the function get_customer_orders so it prompts the user to enter the number of customer orders and gathers the product names using a loop and user input. Use comprehension.\n",
    "\n",
    "3. Add a new function to calculate the total price of the customer order. For each product in customer_orders, prompt the user to enter the price of that product. Use comprehension to calculate the total price. Note: assume that the user can only have 1 unit of each product.\n",
    "\n",
    "4. Modify the update_inventory function to remove the product from the inventory if its quantity becomes zero after fulfilling the customer orders. Use comprehension to filter out the products with a quantity of zero from the inventory.\n",
    "\n",
    "5. Print the total price of the customer order.\n",
    "\n",
    "Your code should produce output similar to the following:\n",
    "\n",
    "```python\n",
    "Enter the quantity of t-shirts available:  5\n",
    "Enter the quantity of mugs available:  4\n",
    "Enter the quantity of hats available:  3\n",
    "Enter the quantity of books available:  2\n",
    "Enter the quantity of keychains available:  1\n",
    "Enter the number of customer orders:  2\n",
    "Enter the name of a product that a customer wants to order:  hat\n",
    "Enter the name of a product that a customer wants to order:  keychain\n",
    "\n",
    "Order Statistics:\n",
    "Total Products Ordered: 2\n",
    "Percentage of Unique Products Ordered: 40.0\n",
    "\n",
    "Updated Inventory:\n",
    "t-shirt: 5\n",
    "mug: 4\n",
    "hat: 2\n",
    "book: 2\n",
    "Enter the price of keychain:  5\n",
    "Enter the price of hat:  10\n",
    "Total Price: 15.0\n",
    "\n",
    "```\n"
   ]
  },
  {
   "cell_type": "code",
   "execution_count": 201,
   "id": "f30ef3c4-bbb6-4110-9f5d-b0990c6b3dce",
   "metadata": {},
   "outputs": [],
   "source": [
    "test_products = [\"t-shirt\", \"mug\", \"hat\", \"book\", \"keychain\"]\n",
    "\n",
    "def initialize_inventory(products):\n",
    "    return {product:int(input(f\"Please enter the quantity of {product} available:\")) for product in products}"
   ]
  },
  {
   "cell_type": "code",
   "execution_count": 199,
   "id": "e61e32a5-4485-437b-81eb-e69d1c515a05",
   "metadata": {},
   "outputs": [],
   "source": [
    "def get_customer_orders():\n",
    "    number_orders = int(input(\"\\nPlease enter the number of customer orders:\"))\n",
    "    return {input(\"Please enter the name of your desired product: \") for i in range(number_orders)}"
   ]
  },
  {
   "cell_type": "code",
   "execution_count": 227,
   "id": "e4108822-378a-497f-86d8-78afa198d725",
   "metadata": {},
   "outputs": [],
   "source": [
    "def calculate_price(customer_orders):\n",
    "    return \"Total price: \" + str(sum([int(input(f\"Please enter the price of {product}:\")) for product in customer_orders]))"
   ]
  },
  {
   "cell_type": "code",
   "execution_count": 205,
   "id": "56a3a4e0-f9d9-42f7-be2e-237c1f9d4a6a",
   "metadata": {},
   "outputs": [],
   "source": [
    "def update_inventory(customer_orders, inventory):\n",
    "    for key in customer_orders:\n",
    "        if key in inventory:\n",
    "            inventory[key] -= 1\n",
    "            if inventory[key] <= 0:\n",
    "                inventory.pop(key)\n",
    "                print(f\"{key} is out of stock.\")\n",
    "        else:\n",
    "            print(f\"{key} does not exist in the inventory\")"
   ]
  },
  {
   "cell_type": "code",
   "execution_count": 211,
   "id": "1c1792f0-1fe9-499e-87df-1ab05d283517",
   "metadata": {},
   "outputs": [],
   "source": [
    "def calculate_order_statistics(customer_orders, products):\n",
    "    return (len(customer_orders), len(customer_orders)/len(products)*100)"
   ]
  },
  {
   "cell_type": "code",
   "execution_count": 217,
   "id": "88c95c26-efea-4cdc-ab4b-64a4c21e2237",
   "metadata": {},
   "outputs": [],
   "source": [
    "def print_order_statistics(order_statistics):\n",
    "    print(\"\\nOrder statistics: \")\n",
    "    print(\"Total products ordered: \" + str(order_statistics[0]))\n",
    "    print(\"Percentage of Products ordered: \" + str(order_statistics[1]) + \"%\")"
   ]
  },
  {
   "cell_type": "code",
   "execution_count": 209,
   "id": "07e68718-73a7-442e-af50-cb952a72c587",
   "metadata": {},
   "outputs": [],
   "source": [
    "def print_updated_inventory(inventory):\n",
    "    print(\"\\nUpdated inventory:\")\n",
    "    for key, value in inventory.items():\n",
    "        print(f\"{key}: {value}\")"
   ]
  },
  {
   "cell_type": "code",
   "execution_count": 229,
   "id": "ac997116-c1fe-4284-963e-c3133ad124ae",
   "metadata": {},
   "outputs": [
    {
     "name": "stdin",
     "output_type": "stream",
     "text": [
      "Please enter the quantity of t-shirt available: 1\n",
      "Please enter the quantity of mug available: 2\n",
      "Please enter the quantity of hat available: 3\n",
      "Please enter the quantity of book available: 4\n",
      "Please enter the quantity of keychain available: 5\n",
      "\n",
      "Please enter the number of customer orders: 3\n",
      "Please enter the name of your desired product:  mug\n",
      "Please enter the name of your desired product:  hat\n",
      "Please enter the name of your desired product:  book\n"
     ]
    },
    {
     "name": "stdout",
     "output_type": "stream",
     "text": [
      "\n",
      "Order statistics: \n",
      "Total products ordered: 3\n",
      "Percentage of Products ordered: 60.0%\n",
      "\n",
      "Updated inventory:\n",
      "t-shirt: 1\n",
      "mug: 1\n",
      "hat: 2\n",
      "book: 3\n",
      "keychain: 5\n"
     ]
    },
    {
     "name": "stdin",
     "output_type": "stream",
     "text": [
      "Please enter the price of mug: 10\n",
      "Please enter the price of hat: 15\n",
      "Please enter the price of book: 20\n"
     ]
    },
    {
     "data": {
      "text/plain": [
       "'Total price: 45'"
      ]
     },
     "execution_count": 229,
     "metadata": {},
     "output_type": "execute_result"
    }
   ],
   "source": [
    "test_inventory = initialize_inventory(test_products)\n",
    "test_customer_orders = get_customer_orders()\n",
    "\n",
    "print_order_statistics(calculate_order_statistics(test_customer_orders, test_products))\n",
    "update_inventory(test_customer_orders, test_inventory)\n",
    "print_updated_inventory(test_inventory)\n",
    "calculate_price(test_customer_orders)"
   ]
  },
  {
   "cell_type": "code",
   "execution_count": null,
   "id": "f8de7c2b-4a03-4b61-bf32-47e49a3cdc9e",
   "metadata": {},
   "outputs": [],
   "source": []
  }
 ],
 "metadata": {
  "kernelspec": {
   "display_name": "Python [conda env:base] *",
   "language": "python",
   "name": "conda-base-py"
  },
  "language_info": {
   "codemirror_mode": {
    "name": "ipython",
    "version": 3
   },
   "file_extension": ".py",
   "mimetype": "text/x-python",
   "name": "python",
   "nbconvert_exporter": "python",
   "pygments_lexer": "ipython3",
   "version": "3.12.7"
  }
 },
 "nbformat": 4,
 "nbformat_minor": 5
}
